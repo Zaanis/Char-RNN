{
 "cells": [
  {
   "cell_type": "code",
   "execution_count": 16,
   "id": "f031f5e2",
   "metadata": {},
   "outputs": [],
   "source": [
    "import unidecode"
   ]
  },
  {
   "cell_type": "code",
   "execution_count": 17,
   "id": "7a07b055",
   "metadata": {},
   "outputs": [],
   "source": [
    "def read_file(filename):\n",
    "    file1 = unidecode.unidecode(open(filename).read())\n",
    "    file2 = open(filename).read()\n",
    "    return len(file1), len(file2)"
   ]
  },
  {
   "cell_type": "code",
   "execution_count": 18,
   "id": "f879f9d0",
   "metadata": {},
   "outputs": [
    {
     "data": {
      "text/plain": [
       "(221087, 221087)"
      ]
     },
     "execution_count": 18,
     "metadata": {},
     "output_type": "execute_result"
    }
   ],
   "source": [
    "read_file('python.txt')"
   ]
  },
  {
   "cell_type": "code",
   "execution_count": 19,
   "id": "e0e9b796",
   "metadata": {},
   "outputs": [],
   "source": [
    "def read_file(filename):\n",
    "    file_contents = open(filename).read()\n",
    "    file1 = unidecode.unidecode(file_contents)\n",
    "    \n",
    "    # Find characters that were not unidecoded\n",
    "    non_unidecoded_chars = [char for char in file_contents if char not in file1]\n",
    "    \n",
    "    file2 = unidecode.unidecode(file_contents)\n",
    "    return len(file1), len(file2), non_unidecoded_chars"
   ]
  },
  {
   "cell_type": "code",
   "execution_count": 20,
   "id": "87285076",
   "metadata": {},
   "outputs": [
    {
     "data": {
      "text/plain": [
       "(221087, 221087, [])"
      ]
     },
     "execution_count": 20,
     "metadata": {},
     "output_type": "execute_result"
    }
   ],
   "source": [
    "read_file('python.txt')"
   ]
  },
  {
   "cell_type": "code",
   "execution_count": null,
   "id": "6c81a3ce",
   "metadata": {},
   "outputs": [],
   "source": []
  }
 ],
 "metadata": {
  "kernelspec": {
   "display_name": "Python 3 (ipykernel)",
   "language": "python",
   "name": "python3"
  },
  "language_info": {
   "codemirror_mode": {
    "name": "ipython",
    "version": 3
   },
   "file_extension": ".py",
   "mimetype": "text/x-python",
   "name": "python",
   "nbconvert_exporter": "python",
   "pygments_lexer": "ipython3",
   "version": "3.9.5"
  }
 },
 "nbformat": 4,
 "nbformat_minor": 5
}
